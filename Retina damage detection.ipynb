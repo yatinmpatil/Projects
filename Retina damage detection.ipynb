{
 "cells": [
  {
   "cell_type": "markdown",
   "metadata": {
    "colab_type": "text",
    "id": "LKGso2V1zSfb"
   },
   "source": [
    "# Project Goal:\n",
    "Retinal diseases are known causes of visual impairment and blindness. Retinal optical coherence tomography (OCT) is an imaging technique used in the diagnosis of retinal diseases.It is estimated by National Eye Institute that 2 million Americans aged 40 years and older are affected by AMD (Age-related Macular Degeneration) and an additional 7.3 million with large drusen are at substantial risk of developing AMD. The number of people with AMD is estimated to reach 3 million in 2020. Each year, more than 200,000 people develop CNV (Choroidal Neovascularization), a severe blinding form of advanced AMD. In addition, nearly 750,000 individuals suffer from DME (Diabetic Macular Edema).<br>Timely diagnosis of retinal diseases is crucial and relies on availability of expertise. Given an increase in prevalence of retinal diseases throughout the world, manual methods of diagnosis are unable to keep a pace with demand for screening services. Machine learning and Deep learning for these diagnoses are essential to solving these problems.![title](picture1.png)\n",
    "\n",
    "## Data Source:\t\n",
    "The dataset was collected from Kaggle website and originally came from Shiley Eye Institute of the University of California San Diego, the California Retinal Research Foundation, Medical Center Ophthalmology Associates, the Shanghai First People’s Hospital, and Beijing Tongren Eye Center. It can be found [here](https://www.kaggle.com/paultimothymooney/kermany2018)\n"
   ]
  },
  {
   "cell_type": "markdown",
   "metadata": {
    "colab_type": "text",
    "id": "_1XAvanxzSfb"
   },
   "source": [
    "## Preliminary Analysis:\n",
    "The dataset contains 82,000 images divided into 4 categories CNV, DME, DRUSEN and NORMAL. The first 3 being diseases and the NORMAL being regular retina scans. Initially I decided to work with small subset of 3900 images initially to determine which models perform better. Preliminary analysis involves binary classification meaning the images being classified as diseased vs non-diseased. \n",
    "The models used for the preliminary analysis are Logistic Regression, Decision tree, Random Forest classifier, Support Vector Machine, XGBoost and KNeighborsClassifier. The result after optimizing hyperparameters are shown below. ![title](picture.png) \n"
   ]
  },
  {
   "cell_type": "markdown",
   "metadata": {
    "colab_type": "text",
    "id": "0SEq5tb3zSfc"
   },
   "source": [
    "After looking at the results, I decided to research online and see the previous work that was done on this project. Convolutional Neural Networks seemed to work better for this classification. So I decided with experiment with CNN model. Due to the limitation of computational power, I had to use Kaggle kernel and build a model."
   ]
  },
  {
   "cell_type": "code",
   "execution_count": 0,
   "metadata": {
    "_cell_guid": "b1076dfc-b9ad-4769-8c92-a6c4dae69d19",
    "_uuid": "8f2839f25d086af736a60e9eeb907d3b93b6e0e5",
    "colab": {},
    "colab_type": "code",
    "id": "rb3cP17VzSfd",
    "outputId": "2c45f864-c95c-4622-ff8f-331c8f3b9383"
   },
   "outputs": [
    {
     "name": "stdout",
     "output_type": "stream",
     "text": [
      "['NORMAL', 'DRUSEN', 'CNV', 'DME']\n"
     ]
    }
   ],
   "source": [
    "# This Python 3 environment comes with many helpful analytics libraries installed\n",
    "# It is defined by the kaggle/python docker image: https://github.com/kaggle/docker-python\n",
    "# For example, here's several helpful packages to load in \n",
    "\n",
    "import numpy as np # linear algebra\n",
    "import pandas as pd # data processing, CSV file I/O (e.g. pd.read_csv)\n",
    "\n",
    "# Input data files are available in the \"../input/\" directory.\n",
    "# For example, running this (by clicking run or pressing Shift+Enter) will list the files in the input directory\n",
    "\n",
    "import os\n",
    "print(os.listdir(\"../input/oct2017/OCT2017 /train\"))\n",
    "\n",
    "\n",
    "# Any results you write to the current directory are saved as output."
   ]
  },
  {
   "cell_type": "code",
   "execution_count": 3,
   "metadata": {
    "colab": {},
    "colab_type": "code",
    "id": "4egEUhJEzSfh"
   },
   "outputs": [],
   "source": [
    "import cv2\n",
    "import os\n",
    "import numpy as np\n",
    "import pandas as pd\n",
    "from sklearn.model_selection import train_test_split\n",
    "from matplotlib import pyplot as plt\n",
    "import seaborn as sns\n",
    "import sklearn.metrics\n",
    "from sklearn.metrics import confusion_matrix, classification_report\n",
    "from sklearn.preprocessing import StandardScaler\n",
    "from sklearn.model_selection import cross_val_score\n",
    "from keras.models import Sequential\n",
    "from keras.optimizers import RMSprop, Adam\n",
    "from keras.layers import Dense,Flatten, Conv2D, MaxPool2D, Dropout, BatchNormalization\n",
    "from keras.utils import to_categorical\n",
    "from keras.preprocessing.image import ImageDataGenerator\n",
    "from keras.callbacks import ReduceLROnPlateau, ModelCheckpoint\n",
    "from sklearn.utils import class_weight\n",
    "from sklearn.externals import joblib\n",
    "from sklearn.utils import class_weight"
   ]
  },
  {
   "cell_type": "code",
   "execution_count": 24,
   "metadata": {},
   "outputs": [
    {
     "name": "stdout",
     "output_type": "stream",
     "text": [
      "NORMAL 26315\n",
      "DRUSEN 8616\n",
      "CNV 37205\n",
      "DME 11348\n"
     ]
    }
   ],
   "source": [
    "names = ['NORMAL', 'DRUSEN', 'CNV', 'DME']\n",
    "values = []\n",
    "for name in names:\n",
    "    img_folder_path = '/Users/yatin/Desktop/Capstone/train/'+name\n",
    "    dirListing = os.listdir(img_folder_path)\n",
    "    values.append(len(dirListing))\n",
    "    print(name, len(dirListing))\n"
   ]
  },
  {
   "cell_type": "code",
   "execution_count": 27,
   "metadata": {},
   "outputs": [
    {
     "data": {
      "image/png": "[encoded data removed]",
      "text/plain": [
       "<Figure size 1008x504 with 1 Axes>"
      ]
     },
     "metadata": {
      "needs_background": "light"
     },
     "output_type": "display_data"
    }
   ],
   "source": [
    "plt.figure(figsize=(14,7))\n",
    "plt.bar(names,values)\n",
    "plt.xlabel('Classes')\n",
    "plt.ylabel('Image Count')\n",
    "plt.title('Class Imbalance')\n",
    "plt.show()"
   ]
  },
  {
   "cell_type": "markdown",
   "metadata": {
    "colab_type": "text",
    "id": "19roH9bkzSfj"
   },
   "source": [
    "## Image Reading and Preprocessing: <br>\n",
    "Defining a path to extract the images from the train, test and validation folders. In order to process 83484 images, I decided to use Imagedatagenerator function and feed the images by batch as reading all the images all at once was not feasible becuase of the limited memory. It generates batches of tensor image data with real-time data augmentation. The data will be looped over (in batches).The **datagen** function preproceeses the images with the augmentation mentioned below and the **generator** passes the images by specified batch size. <br>\n",
    "**Data Augmentation:**\n",
    "Creating a data generator for train, validation and test set to feed the data into model by batches using Imagedatagenerator. Data augmentation is necessary as there is a class imbalance. Neural networks process inputs using small weight values, and inputs with large integer values can casue instability in the neural netowrks and disrupt or slow down the learning process. It is usually good practice to normalize the pixel values so that each pixel value has a value between 0 and 1.\n",
    "For data augmentation I used\n",
    "\n",
    "Zoom image by 20%.<br>\n",
    "Rotation of image by 30 degrees.<br>\n",
    "Width and Height shift by 20%<br>\n",
    "Horizontal flip."
   ]
  },
  {
   "cell_type": "markdown",
   "metadata": {
    "colab_type": "text",
    "id": "a_jJS9XMzSfj"
   },
   "source": [
    "### Model Parameters:\n",
    "For model parameters I started with 10 epochs minimum as it toook almost 7 hours to train the model. The batch size of 35."
   ]
  },
  {
   "cell_type": "code",
   "execution_count": 0,
   "metadata": {
    "colab": {},
    "colab_type": "code",
    "id": "uu2QJvchzSfk"
   },
   "outputs": [],
   "source": [
    "train_direct = \"../input/oct2017/OCT2017 /train/\"\n",
    "val_direct = \"../input/oct2017/OCT2017 /val/\"\n",
    "test_direct = \"../input/oct2017/OCT2017 /test/\""
   ]
  },
  {
   "cell_type": "code",
   "execution_count": 0,
   "metadata": {
    "colab": {},
    "colab_type": "code",
    "id": "K9EhzEENzSfm"
   },
   "outputs": [],
   "source": [
    "num_classes = 4\n",
    "batch_size = 35\n",
    "epochs = 16"
   ]
  },
  {
   "cell_type": "code",
   "execution_count": 0,
   "metadata": {
    "colab": {},
    "colab_type": "code",
    "id": "34igK_ahzSfo",
    "outputId": "6669281a-165d-444c-f43f-e24587a17f09"
   },
   "outputs": [
    {
     "name": "stdout",
     "output_type": "stream",
     "text": [
      "Found 83484 images belonging to 4 classes.\n"
     ]
    }
   ],
   "source": [
    "train_datagen = ImageDataGenerator(rescale=1./255,\n",
    "                                    shear_range=0.2,\n",
    "                                    zoom_range=0.2,\n",
    "                                   rotation_range=30,\n",
    "                                   width_shift_range=0.2,\n",
    "                                    height_shift_range=0.2,\n",
    "                                    horizontal_flip=True)\n",
    "train_generator = train_datagen.flow_from_directory(\n",
    "        train_direct,\n",
    "        target_size=(250, 250),\n",
    "        batch_size=batch_size,\n",
    "        class_mode='categorical')"
   ]
  },
  {
   "cell_type": "code",
   "execution_count": 0,
   "metadata": {
    "colab": {},
    "colab_type": "code",
    "id": "yI3zv3UwzSfq",
    "outputId": "60bd2b18-fea4-4500-9187-f2a48967d82d"
   },
   "outputs": [
    {
     "name": "stdout",
     "output_type": "stream",
     "text": [
      "Found 32 images belonging to 4 classes.\n"
     ]
    }
   ],
   "source": [
    "val_datagen = ImageDataGenerator(rescale=1/255)\n",
    "val_generator = val_datagen.flow_from_directory(\n",
    "        val_direct,\n",
    "        target_size=(250, 250),\n",
    "        batch_size=batch_size,\n",
    "        class_mode='categorical')"
   ]
  },
  {
   "cell_type": "code",
   "execution_count": 0,
   "metadata": {
    "colab": {},
    "colab_type": "code",
    "id": "SrfdMoe2zSfs",
    "outputId": "28da9572-d1ec-4593-9c91-696f99ba4aeb"
   },
   "outputs": [
    {
     "name": "stdout",
     "output_type": "stream",
     "text": [
      "Found 968 images belonging to 4 classes.\n"
     ]
    }
   ],
   "source": [
    "test_datagen = ImageDataGenerator(rescale=1/255)\n",
    "test_generator = test_datagen.flow_from_directory(\n",
    "        test_direct,\n",
    "        target_size=(250, 250),\n",
    "        batch_size=batch_size,\n",
    "        class_mode='categorical')"
   ]
  },
  {
   "cell_type": "markdown",
   "metadata": {
    "colab_type": "text",
    "id": "iIFujHQJzSfu"
   },
   "source": [
    "## Model Design:<br>\n",
    "\n",
    "Throughout the model designing process I decided to keep couple parameters constant such as Kernel size(3* 3), optimizer(Adam), activation function(relu) and stride length(2* 2). Thr Adam optimizer usually works well even with little tuning of hyperparameters and also has adaptive moment estimation. \n",
    "### Step 1<br>\n",
    "First basic model had 3 convolutional 2D layers with 128, 64 and 32 filter sizes with data augmentation and image size of 150* 150. The accuracy was worst than regular models.\n",
    "### Step 2<br>\n",
    "I decided to include the [class weights](https://datascience.stackexchange.com/questions/13490/how-to-set-class-weights-for-imbalanced-classes-in-keras) function as call backs in the model while fitting in order to counter the class-imbalance. It basically assigns the class weights to the respective classes by increasing the instances of the classes with less samples. <br>\n",
    "### Step 3<br>\n",
    "I added one more filter at 2nd position with filter size of 128 and decided to add learning rate reduction parameter because it is better to have a decreasing learning rate during the training to reach efficiently the global minimum of the loss function. To keep the advantage of the fast computation time with a high LR, I decreased the LR dynamically every 3 epochs (with patience parameter) if the accuracy of validation set is not improved.\n",
    "### Step 4<br>\n",
    "Added batch normalization to every layer. Batch normalization normalizes the ouput from previous activation layer by subtracting the batch mean and dividing by the batch standard deviation. This process increases the stability of a neural network. It increases the speed of training and reduces the ability of outlying large weights that will over influence the training process.\n",
    "### Step 5:<br>\n",
    "Increasen in the image size from 150* 150 to 250* 250 and addition of one more layer with 256 filter in the begining. I also changed the learning rate parameter to patience of 2. So for every 2 epochs the learning rate decreases if the validation accuracy is not imporved. The accuracy for this model reached 97%.<br>\n",
    "I increased epochs from 10 to 16 to see if the accuracy improves but it did not affect much. "
   ]
  },
  {
   "cell_type": "code",
   "execution_count": 0,
   "metadata": {
    "colab": {},
    "colab_type": "code",
    "id": "-yD1_HhAzSfv"
   },
   "outputs": [],
   "source": [
    "class_weights = class_weight.compute_class_weight('balanced',\n",
    "                                                  np.unique(train_generator.classes),\n",
    "                                                  train_generator.classes)"
   ]
  },
  {
   "cell_type": "code",
   "execution_count": 0,
   "metadata": {
    "colab": {},
    "colab_type": "code",
    "id": "TrjEKx_uzSfy",
    "outputId": "74b4e6a8-945e-433a-b3ef-107244f3a2e1"
   },
   "outputs": [
    {
     "name": "stdout",
     "output_type": "stream",
     "text": [
      "WARNING:tensorflow:From /opt/conda/lib/python3.6/site-packages/tensorflow/python/framework/op_def_library.py:263: colocate_with (from tensorflow.python.framework.ops) is deprecated and will be removed in a future version.\n",
      "Instructions for updating:\n",
      "Colocations handled automatically by placer.\n",
      "WARNING:tensorflow:From /opt/conda/lib/python3.6/site-packages/keras/backend/tensorflow_backend.py:3445: calling dropout (from tensorflow.python.ops.nn_ops) with keep_prob is deprecated and will be removed in a future version.\n",
      "Instructions for updating:\n",
      "Please use `rate` instead of `keep_prob`. Rate should be set to `rate = 1 - keep_prob`.\n"
     ]
    }
   ],
   "source": [
    "model = Sequential()\n",
    "\n",
    "model.add(Conv2D(filters = 256, kernel_size = (3,3),padding = 'Same', \n",
    "                 activation ='relu', input_shape = (250,250,3)))\n",
    "model.add(BatchNormalization())\n",
    "model.add(MaxPool2D(pool_size=(2,2),strides = (2,2)))\n",
    "model.add(Dropout(0.4))\n",
    "\n",
    "model.add(Conv2D(filters = 128, kernel_size = (3,3),padding = 'Same', \n",
    "                 activation ='relu'))\n",
    "model.add(BatchNormalization())\n",
    "model.add(MaxPool2D(pool_size=(2,2),strides = (2,2)))\n",
    "model.add(Dropout(0.4))\n",
    "\n",
    "\n",
    "model.add(Conv2D(filters = 128, kernel_size = (3,3),padding = 'Same', \n",
    "                 activation ='relu'))\n",
    "model.add(BatchNormalization())\n",
    "model.add(MaxPool2D(pool_size=(2,2),strides = (2,2)))\n",
    "model.add(Dropout(0.5))\n",
    "\n",
    "model.add(Conv2D(filters = 64, kernel_size = (3,3),padding = 'Same', \n",
    "                 activation ='relu'))\n",
    "model.add(BatchNormalization())\n",
    "model.add(MaxPool2D(pool_size=(2,2),strides = (2,2)))\n",
    "model.add(Dropout(0.5))\n",
    "\n",
    "model.add(Conv2D(filters = 32, kernel_size = (3,3),padding = 'Same', \n",
    "                 activation ='relu'))\n",
    "model.add(BatchNormalization())\n",
    "model.add(MaxPool2D(pool_size=(2,2),strides = (2,2)))\n",
    "model.add(Dropout(0.5))\n",
    "\n",
    "model.add(Flatten())\n",
    "model.add(Dense(100, activation = \"relu\"))\n",
    "model.add(Dropout(0.5))\n",
    "model.add(Dense(num_classes, activation = \"softmax\"))"
   ]
  },
  {
   "cell_type": "code",
   "execution_count": 0,
   "metadata": {
    "colab": {},
    "colab_type": "code",
    "id": "wJZ9aVKmzSf0"
   },
   "outputs": [],
   "source": [
    "Optimizer = Adam(lr=0.001, beta_1=0.9, beta_2=0.999, epsilon=None, decay=0.0, amsgrad=False)"
   ]
  },
  {
   "cell_type": "code",
   "execution_count": 0,
   "metadata": {
    "colab": {},
    "colab_type": "code",
    "id": "IvVGjUX2zSf2"
   },
   "outputs": [],
   "source": [
    "learning_rate_reduction = ReduceLROnPlateau(monitor='val_acc', \n",
    "                                            patience=2, \n",
    "                                            verbose=1, \n",
    "                                            factor=0.5, \n",
    "                                            min_lr=0.00001)"
   ]
  },
  {
   "cell_type": "code",
   "execution_count": 0,
   "metadata": {
    "colab": {},
    "colab_type": "code",
    "id": "Hc_VLf-szSf4"
   },
   "outputs": [],
   "source": [
    "model.compile(optimizer= Optimizer,metrics= ['accuracy'], loss = 'categorical_crossentropy')"
   ]
  },
  {
   "cell_type": "code",
   "execution_count": 0,
   "metadata": {
    "colab": {},
    "colab_type": "code",
    "id": "GBYk6BMJzSf5",
    "outputId": "9da26357-3fa0-46dd-aea8-9d9d09b539b8"
   },
   "outputs": [
    {
     "name": "stdout",
     "output_type": "stream",
     "text": [
      "WARNING:tensorflow:From /opt/conda/lib/python3.6/site-packages/tensorflow/python/ops/math_ops.py:3066: to_int32 (from tensorflow.python.ops.math_ops) is deprecated and will be removed in a future version.\n",
      "Instructions for updating:\n",
      "Use tf.cast instead.\n",
      "Epoch 1/10\n",
      "2385/2385 [==============================] - 1933s 810ms/step - loss: 0.9823 - acc: 0.6224 - val_loss: 1.0885 - val_acc: 0.5000\n",
      "Epoch 2/10\n",
      "2385/2385 [==============================] - 1727s 724ms/step - loss: 0.7331 - acc: 0.7274 - val_loss: 1.3313 - val_acc: 0.5312\n",
      "Epoch 3/10\n",
      "2385/2385 [==============================] - 1711s 717ms/step - loss: 0.6442 - acc: 0.7625 - val_loss: 0.5712 - val_acc: 0.6875\n",
      "Epoch 4/10\n",
      "2385/2385 [==============================] - 1730s 725ms/step - loss: 0.4868 - acc: 0.8314 - val_loss: 0.1702 - val_acc: 0.9375\n",
      "Epoch 5/10\n",
      "2385/2385 [==============================] - 1723s 722ms/step - loss: 0.3823 - acc: 0.8712 - val_loss: 0.2239 - val_acc: 0.9375\n",
      "Epoch 6/10\n",
      "2385/2385 [==============================] - 1716s 719ms/step - loss: 0.3455 - acc: 0.8859 - val_loss: 0.0974 - val_acc: 0.9688\n",
      "Epoch 7/10\n",
      "2385/2385 [==============================] - 1716s 720ms/step - loss: 0.3197 - acc: 0.8947 - val_loss: 0.0859 - val_acc: 0.9688\n",
      "Epoch 8/10\n",
      "2385/2385 [==============================] - 1729s 725ms/step - loss: 0.3027 - acc: 0.9006 - val_loss: 0.2379 - val_acc: 0.9062\n",
      "Epoch 9/10\n",
      "2385/2385 [==============================] - 1727s 724ms/step - loss: 0.2864 - acc: 0.9061 - val_loss: 0.0558 - val_acc: 0.9688\n",
      "Epoch 10/10\n",
      "2385/2385 [==============================] - 1719s 721ms/step - loss: 0.2767 - acc: 0.9081 - val_loss: 0.0464 - val_acc: 1.0000\n"
     ]
    }
   ],
   "source": [
    "history = model.fit_generator(\n",
    "        train_generator,\n",
    "        steps_per_epoch= train_generator.samples//batch_size,\n",
    "        epochs=epochs,\n",
    "        validation_data=val_generator,\n",
    "        validation_steps = 1,\n",
    "        class_weight = class_weights)"
   ]
  },
  {
   "cell_type": "code",
   "execution_count": 0,
   "metadata": {
    "colab": {},
    "colab_type": "code",
    "id": "paa-uGMozSf8",
    "outputId": "0d4395a6-5f03-4e03-c7e7-6e8c15cdc99d"
   },
   "outputs": [
    {
     "name": "stdout",
     "output_type": "stream",
     "text": [
      "28/28 [==============================] - 4s 141ms/step\n",
      "[0.06136065281827526, 0.9793388442067076]\n"
     ]
    }
   ],
   "source": [
    "STEP_SIZE_TEST=test_generator.n//test_generator.batch_size\n",
    "result = model.evaluate_generator(test_generator,\n",
    "steps=STEP_SIZE_TEST+1,\n",
    "verbose=1)\n",
    "print(result)"
   ]
  },
  {
   "cell_type": "code",
   "execution_count": 7,
   "metadata": {
    "colab": {
     "base_uri": "https://localhost:8080/",
     "height": 36
    },
    "colab_type": "code",
    "id": "Bedv5bDUzSgP",
    "outputId": "1dd79f79-e2f5-4dc1-d031-7d68ce0cbc5f"
   },
   "outputs": [
    {
     "name": "stdout",
     "output_type": "stream",
     "text": [
      "0.9714285714285714\n"
     ]
    }
   ],
   "source": [
    "prediction = []\n",
    "classes = []\n",
    "for i in range(len(test_generator)):\n",
    "    y_img_batch, y_class_batch = test_generator[0] \n",
    "    \n",
    "    y_predict_proba = model.predict(y_img_batch)    \n",
    "    \n",
    "    y_pred = np.argmax(y_predict_proba,-1)\n",
    "    y_true = np.argmax(y_class_batch,-1)\n",
    "    \n",
    "    prediction.extend(y_pred)\n",
    "    classes.extend(y_true)\n",
    "    \n",
    "\n",
    "    \n",
    "prediction = np.array(prediction)    \n",
    "classes = np.array(classes)\n",
    "    \n",
    "\n",
    "print(sum(prediction==classes)/classes.shape[0])"
   ]
  },
  {
   "cell_type": "markdown",
   "metadata": {
    "colab": {},
    "colab_type": "code",
    "id": "AqO8gRXNzSgb"
   },
   "source": [
    "## Results:<br>\n",
    "### Confusion matrix and Classification report:\n",
    "Our model predicted 28 images of DRUSEN as CNV which means the model is bit weak at differentiating CNV from DRUSEN. It is probably because of the class imbalance that DRUSEN images were misclassified becuase DRUSEN had the least number of images. The one up side for the model is it did not classify any of the diseased images as NORMAL.<br>\n",
    "As a result of this misclassification, classification report indicates CNV and DRUSEN with less f1 score."
   ]
  },
  {
   "cell_type": "code",
   "execution_count": 0,
   "metadata": {
    "colab": {},
    "colab_type": "code",
    "id": "4vGL1qK20H0c"
   },
   "outputs": [],
   "source": [
    "labels = (test_generator.class_indices)\n",
    "labels = dict((v,k) for k,v in labels.items())\n",
    "predictions = pd.Categorical([labels[k] for k in prediction],categories=['CNV','DME','DRUSEN','NORMAL'])"
   ]
  },
  {
   "cell_type": "code",
   "execution_count": 0,
   "metadata": {
    "colab": {},
    "colab_type": "code",
    "id": "fDS2TBZ30Kdd"
   },
   "outputs": [],
   "source": [
    "class_name = pd.Categorical([labels[k] for k in classes],categories=['CNV','DME','DRUSEN','NORMAL'])"
   ]
  },
  {
   "cell_type": "code",
   "execution_count": 13,
   "metadata": {
    "colab": {
     "base_uri": "https://localhost:8080/",
     "height": 518
    },
    "colab_type": "code",
    "id": "vz4VdReU0ON0",
    "outputId": "ff82ba00-62bb-4f88-eb8b-31953a69225a"
   },
   "outputs": [
    {
     "data": {
      "image/png": "[encoded data removed]",
      "text/plain": [
       "<Figure size 1080x576 with 2 Axes>"
      ]
     },
     "metadata": {
      "tags": []
     },
     "output_type": "display_data"
    }
   ],
   "source": [
    "df =pd.crosstab(class_name, predictions, rownames=['Actual'], colnames=['Predicted'], margins=True)\n",
    "plt.figure(figsize = [15,8])\n",
    "sns.set(font_scale=1.4)\n",
    "sns.heatmap(df,cmap = 'Blues',vmax = 200, vmin = 0,annot=True, fmt = 'g');"
   ]
  },
  {
   "cell_type": "code",
   "execution_count": 18,
   "metadata": {
    "colab": {
     "base_uri": "https://localhost:8080/",
     "height": 226
    },
    "colab_type": "code",
    "id": "XnfTUHLPzSgS",
    "outputId": "e45cd28d-9cd9-45a1-de17-de912b5196f5"
   },
   "outputs": [
    {
     "name": "stdout",
     "output_type": "stream",
     "text": [
      "              precision    recall  f1-score   support\n",
      "\n",
      "         CNV       0.92      1.00      0.96       336\n",
      "         DME       1.00      1.00      1.00       224\n",
      "      DRUSEN       1.00      0.89      0.94       252\n",
      "      NORMAL       1.00      1.00      1.00       168\n",
      "\n",
      "    accuracy                           0.97       980\n",
      "   macro avg       0.98      0.97      0.98       980\n",
      "weighted avg       0.97      0.97      0.97       980\n",
      "\n"
     ]
    }
   ],
   "source": [
    "print(classification_report(classes,prediction,target_names=['CNV','DME','DRUSEN','NORMAL']))"
   ]
  },
  {
   "cell_type": "markdown",
   "metadata": {},
   "source": [
    "### Graphs:\n",
    "The graphs below are accuracy and loss grpahs for training and validation sets over the epochs. Since I set the learning rate reduction for evey 2 epochs, we can see spike in the accuracy of validation set for every 2 epochs and decrease in the loss respectively."
   ]
  },
  {
   "cell_type": "code",
   "execution_count": 0,
   "metadata": {
    "colab": {},
    "colab_type": "code",
    "id": "e3TyB7EZzSgV"
   },
   "outputs": [],
   "source": [
    "accuracy = history.history['acc']\n",
    "val_accuracy = history.history['val_acc']\n",
    "loss = history.history['loss']\n",
    "val_loss = history.history['val_loss']"
   ]
  },
  {
   "cell_type": "code",
   "execution_count": 0,
   "metadata": {
    "colab": {},
    "colab_type": "code",
    "id": "uF0aDtVezSgX",
    "outputId": "50de54eb-65a6-4234-eee3-7201b4b97ceb"
   },
   "outputs": [
    {
     "data": {
      "image/png": "[encoded data removed]",
      "text/plain": [
       "<Figure size 1008x504 with 1 Axes>"
      ]
     },
     "metadata": {
      "needs_background": "light",
      "tags": []
     },
     "output_type": "display_data"
    }
   ],
   "source": [
    "plt.figure(figsize = (14,7))\n",
    "plt.plot(accuracy, label = 'Train')\n",
    "plt.plot(val_accuracy, label = 'Validation')\n",
    "plt.xlabel('epochs')\n",
    "plt.title('Accurcay')\n",
    "plt.ylabel('Accuracy')\n",
    "plt.legend();"
   ]
  },
  {
   "cell_type": "code",
   "execution_count": 0,
   "metadata": {
    "colab": {},
    "colab_type": "code",
    "id": "gICrt7f4zSgZ",
    "outputId": "7d912b3a-fc2a-46f1-f788-d08b2d16a52e"
   },
   "outputs": [
    {
     "data": {
      "image/png": "[encoded data removed]",
      "text/plain": [
       "<Figure size 1008x504 with 1 Axes>"
      ]
     },
     "metadata": {
      "needs_background": "light",
      "tags": []
     },
     "output_type": "display_data"
    }
   ],
   "source": [
    "plt.figure(figsize = (14,7))\n",
    "plt.plot(loss, label = 'Train')\n",
    "plt.plot(val_loss, label = 'Validation')\n",
    "plt.xlabel('Epochs')\n",
    "plt.ylabel('Loss')\n",
    "plt.title('Loss')\n",
    "plt.legend();"
   ]
  },
  {
   "cell_type": "code",
   "execution_count": 0,
   "metadata": {
    "colab": {},
    "colab_type": "code",
    "id": "vt85t78azSgd"
   },
   "outputs": [],
   "source": []
  }
 ],
 "metadata": {
  "colab": {
   "name": "Capstone_final.ipynb",
   "provenance": [],
   "version": "0.3.2"
  },
  "kernelspec": {
   "display_name": "Python 3",
   "language": "python",
   "name": "python3"
  },
  "language_info": {
   "codemirror_mode": {
    "name": "ipython",
    "version": 3
   },
   "file_extension": ".py",
   "mimetype": "text/x-python",
   "name": "python",
   "nbconvert_exporter": "python",
   "pygments_lexer": "ipython3",
   "version": "3.7.1"
  }
 },
 "nbformat": 4,
 "nbformat_minor": 1
}
