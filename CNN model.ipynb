{
 "cells": [
  {
   "cell_type": "markdown",
   "metadata": {},
   "source": [
    "## Question 5\n",
    "### Note: \n",
    "I installed tensorflow with `conda install tensorflow` and keras with `conda install keras` command. I tried using XGBoost for couple times but I did not get good results with default parameters. I tried to optimize hyperparameters but kernel was stuck and did not lead me to any result after overnight wait. So I decided to use CNN model instead. I had problem using CNN as well. My kernel kept dying but I was able to save pkl file and load the results. I still could not plot heatmap for confusion matrix."
   ]
  },
  {
   "cell_type": "code",
   "execution_count": 1,
   "metadata": {},
   "outputs": [
    {
     "name": "stderr",
     "output_type": "stream",
     "text": [
      "Using TensorFlow backend.\n"
     ]
    }
   ],
   "source": [
    "import numpy as np\n",
    "import pandas as pd\n",
    "from sklearn.model_selection import train_test_split\n",
    "from matplotlib import pyplot as plt\n",
    "import seaborn as sns\n",
    "import sklearn.metrics\n",
    "from sklearn.metrics import confusion_matrix\n",
    "from sklearn.metrics import classification_report\n",
    "from sklearn.preprocessing import StandardScaler\n",
    "from sklearn.model_selection import cross_val_score\n",
    "from keras.models import Sequential\n",
    "from keras.optimizers import Adam\n",
    "from keras.layers import Dense,Flatten, Conv2D, MaxPool2D, Dropout\n",
    "from keras.utils import to_categorical\n",
    "from keras.preprocessing.image import ImageDataGenerator\n",
    "from sklearn.externals import joblib"
   ]
  },
  {
   "cell_type": "code",
   "execution_count": 2,
   "metadata": {},
   "outputs": [],
   "source": [
    "mnist_csv = np.genfromtxt(\"mnist_data.csv\", delimiter=\",\")"
   ]
  },
  {
   "cell_type": "code",
   "execution_count": 3,
   "metadata": {},
   "outputs": [],
   "source": [
    "X = mnist_csv[:, :-1]\n",
    "y = mnist_csv[:, -1]\n",
    "\n",
    "# Split into training & test sets\n",
    "X_train, X_test, y_train, y_test = train_test_split(X, y, test_size=0.4, stratify = y)"
   ]
  },
  {
   "cell_type": "markdown",
   "metadata": {},
   "source": [
    "# Convolution Neural Network:"
   ]
  },
  {
   "cell_type": "markdown",
   "metadata": {},
   "source": [
    "The idea of CNN model is that it does a mathematical operation with the help of kernel or fitler to build a feature map, then passing through pooling, fully connected layers and then applying softmax function to classify an object.<br>\n",
    "Initially I decided to put two 2D convolution layers(2D becuase the images are grey and not colored) because single layers are usually used in case of very simple problems which present linearly seperable functions. Multilayer neurons are used to represent convex regions. This means that they can learn to draw shapes around examples in some high-dimensional space that can separate and classify them, overcoming the limitation of linear separability.<br>\n",
    "I ran first model with few default values without tuning any hyperparameters to get the hang of a model and to check how it performs."
   ]
  },
  {
   "cell_type": "markdown",
   "metadata": {},
   "source": [
    "## Preprocessing:\n",
    "The images we have are of size 28*28 and they need to be flattened to be passed through the convolution layer. We reshape the images as follows. The last number 1 represents the color code grayscale."
   ]
  },
  {
   "cell_type": "code",
   "execution_count": 4,
   "metadata": {},
   "outputs": [],
   "source": [
    "X_train = X_train.reshape(21000,28,28,1)\n",
    "X_test = X_test.reshape(14000,28,28,1)"
   ]
  },
  {
   "cell_type": "code",
   "execution_count": 8,
   "metadata": {},
   "outputs": [
    {
     "data": {
      "text/plain": [
       "(21000, 28, 28, 1)"
      ]
     },
     "execution_count": 8,
     "metadata": {},
     "output_type": "execute_result"
    }
   ],
   "source": [
    "X_train.shape"
   ]
  },
  {
   "cell_type": "markdown",
   "metadata": {},
   "source": [
    "Data normalization ensures that each input parameter (pixel, in this case) has a similar data distribution. This makes convergence faster while training the network."
   ]
  },
  {
   "cell_type": "code",
   "execution_count": 5,
   "metadata": {},
   "outputs": [],
   "source": [
    "X_train = X_train/255\n",
    "X_test = X_test/255"
   ]
  },
  {
   "cell_type": "markdown",
   "metadata": {},
   "source": [
    "Problem with label encoding is that it assumes higher the categorical value, better the category. Machine learning algorithms cannot work with categorical data directly hence using one-hot encoding, we convert the categorical data into a vector of numbers. Also I decided to use [categorical_entropy](https://keras.io/losses/) as a loss function which requires target being categorical format. "
   ]
  },
  {
   "cell_type": "code",
   "execution_count": 6,
   "metadata": {},
   "outputs": [],
   "source": [
    "y_train = to_categorical(y_train)\n",
    "y_test = to_categorical(y_test)"
   ]
  },
  {
   "cell_type": "code",
   "execution_count": 11,
   "metadata": {},
   "outputs": [
    {
     "data": {
      "text/plain": [
       "(21000, 10)"
      ]
     },
     "execution_count": 11,
     "metadata": {},
     "output_type": "execute_result"
    }
   ],
   "source": [
    "y_train.shape"
   ]
  },
  {
   "cell_type": "code",
   "execution_count": 9,
   "metadata": {},
   "outputs": [],
   "source": [
    "X_next, X_valid, y_next, y_valid = train_test_split(X_train, y_train, test_size=0.1)"
   ]
  },
  {
   "cell_type": "markdown",
   "metadata": {},
   "source": [
    "## MODEL DESIGN:"
   ]
  },
  {
   "cell_type": "markdown",
   "metadata": {},
   "source": [
    "### Some of the parameters I decided to look up and tune:<br>\n",
    "\n",
    "**Kernal/Filter size:**<br>\n",
    "We can use large or small filter matrix. Since what differentiates our image are small local features like curves, corners, I decided to use 5*5 size for filter.\n",
    "\n",
    "**Filters**:<br>\n",
    "In CNNs, filters are not defined. The value of each filter is learned during the training process. the filters are more like feature detectors. I decided to start by using smaller filters 10 to collect as much local information as possible, and then gradually increase the filter width to 32 to represent more global, high-level and representative information. \n",
    "\n",
    "**Activation function(Relu):**<br>\n",
    "The purpose of applying the rectifier function is to increase the non-linearity in our images. The reason we want to do that is that images are naturally non-linear.\n",
    "\n",
    "**Stride:**<br>\n",
    "The number of pixels by which we slide the kernel filter is known as the stride. The default value is (1,1).\n",
    "\n",
    "**Padding:**<br>\n",
    "When the fitler moves over an image with the specified stirde length (not being one), to fit in the kernel at the edges of the image we have to provide padding. Padding is generally used to add columns and rows of zeroes to keep the spatial sizes constant after convolution, doing this might improve performance as it retains the information at the borders. The input `same` is used for same output size as the input size.\n",
    "\n",
    "**Max_pool:**<br>\n",
    "Max_pool down-sample an input representation reducing its dimensionality by keeping the max value(activated features). The idea is to reduce the dimensionality of each feature map but retain the most important information. It also The most common stride length is 2*2.\n",
    "\n",
    "**Flatten:**<br>\n",
    "After pooling, the feature learning has been completed. Now we come to flattening. Here the matrix is converted into a linear array to input it into the nodes of our neural network.\n",
    "\n",
    "**Dense:**<br>\n",
    "The last Dense value represents the number of classes we have which is 10.\n",
    "\n",
    "\n",
    "**Dropout:**<br>\n",
    "Dropout is an approach to regularization in neural networks which avoides overfitting and helps reducing interdependent learning amongst the neurons by **randomly dropping neurons**. Dropout forces a neural network to learn more robust features that are useful in conjunction with many different random subsets of the other neurons. Usually 20% to 50% is standard rate. So I decided to go with 0.5.\n",
    "\n",
    "**Epoch, Batch_size and Iterations:**<br>\n",
    "An epoch is a number of times a dataset is passed forward and backward through a neural network once. Since the network learns as the data passes through by upating the weights, we need to pass the dataset multiple times.<br>\n",
    "A batch size is basically splitting the data in batches and passing the batch at a time and iterations is the number of batches needed to complete one epoch. <br>\n",
    "There is no specific value for these parameters. Its more of trial and error method. So I chose to go with 20 epochs, 100 batch size to start."
   ]
  },
  {
   "cell_type": "code",
   "execution_count": 15,
   "metadata": {
    "scrolled": true
   },
   "outputs": [
    {
     "name": "stdout",
     "output_type": "stream",
     "text": [
      "Train on 18900 samples, validate on 2100 samples\n",
      "Epoch 1/20\n",
      "18900/18900 [==============================] - 56s 3ms/step - loss: 0.3198 - acc: 0.9000 - val_loss: 0.1009 - val_acc: 0.9681\n",
      "Epoch 2/20\n",
      "18900/18900 [==============================] - 59s 3ms/step - loss: 0.1025 - acc: 0.9683 - val_loss: 0.0795 - val_acc: 0.9767\n",
      "Epoch 3/20\n",
      "18900/18900 [==============================] - 63s 3ms/step - loss: 0.0714 - acc: 0.9770 - val_loss: 0.0639 - val_acc: 0.9776\n",
      "Epoch 4/20\n",
      "18900/18900 [==============================] - 65s 3ms/step - loss: 0.0532 - acc: 0.9853 - val_loss: 0.0682 - val_acc: 0.9790\n",
      "Epoch 5/20\n",
      "18900/18900 [==============================] - 71s 4ms/step - loss: 0.0476 - acc: 0.9857 - val_loss: 0.0620 - val_acc: 0.9786\n",
      "Epoch 6/20\n",
      "18900/18900 [==============================] - 74s 4ms/step - loss: 0.0382 - acc: 0.9876 - val_loss: 0.0722 - val_acc: 0.9805\n",
      "Epoch 7/20\n",
      "18900/18900 [==============================] - 63s 3ms/step - loss: 0.0327 - acc: 0.9893 - val_loss: 0.0537 - val_acc: 0.9852\n",
      "Epoch 8/20\n",
      "18900/18900 [==============================] - 70s 4ms/step - loss: 0.0300 - acc: 0.9901 - val_loss: 0.0647 - val_acc: 0.9810\n",
      "Epoch 9/20\n",
      "18900/18900 [==============================] - 72s 4ms/step - loss: 0.0259 - acc: 0.9915 - val_loss: 0.0689 - val_acc: 0.9810\n",
      "Epoch 10/20\n",
      "18900/18900 [==============================] - 72s 4ms/step - loss: 0.0246 - acc: 0.9922 - val_loss: 0.0601 - val_acc: 0.9838\n",
      "Epoch 11/20\n",
      "18900/18900 [==============================] - 83s 4ms/step - loss: 0.0199 - acc: 0.9936 - val_loss: 0.0710 - val_acc: 0.9824\n",
      "Epoch 12/20\n",
      "18900/18900 [==============================] - 73s 4ms/step - loss: 0.0226 - acc: 0.9916 - val_loss: 0.0511 - val_acc: 0.9862\n",
      "Epoch 13/20\n",
      "18900/18900 [==============================] - 76s 4ms/step - loss: 0.0168 - acc: 0.9944 - val_loss: 0.0611 - val_acc: 0.9848\n",
      "Epoch 14/20\n",
      "18900/18900 [==============================] - 70s 4ms/step - loss: 0.0178 - acc: 0.9948 - val_loss: 0.0618 - val_acc: 0.9838\n",
      "Epoch 15/20\n",
      "18900/18900 [==============================] - 72s 4ms/step - loss: 0.0166 - acc: 0.9948 - val_loss: 0.0600 - val_acc: 0.9838\n",
      "Epoch 16/20\n",
      "18900/18900 [==============================] - 72s 4ms/step - loss: 0.0161 - acc: 0.9947 - val_loss: 0.0644 - val_acc: 0.9814\n",
      "Epoch 17/20\n",
      "18900/18900 [==============================] - 72s 4ms/step - loss: 0.0120 - acc: 0.9964 - val_loss: 0.0660 - val_acc: 0.9829\n",
      "Epoch 18/20\n",
      "18900/18900 [==============================] - 74s 4ms/step - loss: 0.0147 - acc: 0.9954 - val_loss: 0.0704 - val_acc: 0.9829\n",
      "Epoch 19/20\n",
      "18900/18900 [==============================] - 74s 4ms/step - loss: 0.0141 - acc: 0.9952 - val_loss: 0.0666 - val_acc: 0.9838\n",
      "Epoch 20/20\n",
      "18900/18900 [==============================] - 80s 4ms/step - loss: 0.0147 - acc: 0.9956 - val_loss: 0.0805 - val_acc: 0.9805\n"
     ]
    }
   ],
   "source": [
    "my_model = Sequential()\n",
    "\n",
    "my_model.add(Conv2D(filters = 10, kernel_size = (5,5),padding = 'Same', \n",
    "                 activation ='relu', input_shape = (28,28,1)))\n",
    "my_model.add(Conv2D(filters = 32, kernel_size = (5,5),padding = 'Same', \n",
    "                 activation ='relu'))\n",
    "\n",
    "my_model.add(MaxPool2D(pool_size=(2,2),strides = (2,2)))\n",
    "\n",
    "my_model.add(Dropout(0.5))\n",
    "\n",
    "my_model.add(Flatten())\n",
    "my_model.add(Dense(1000, activation = \"relu\"))\n",
    "my_model.add(Dropout(0.5))\n",
    "my_model.add(Dense(10, activation = \"softmax\"))\n",
    "\n",
    "my_model.compile(optimizer= Adam(lr=0.001, beta_1=0.9, beta_2=0.999, epsilon=None, decay=0.0, amsgrad=False),\\\n",
    "                 metrics= ['accuracy'], loss = 'categorical_crossentropy')\n",
    "history = my_model.fit(X_next,y_next,batch_size=100,\\\n",
    "                           epochs=20,verbose=1,validation_data=(X_valid, y_valid))"
   ]
  },
  {
   "cell_type": "markdown",
   "metadata": {},
   "source": [
    "After looking at several optimizer perormances [here](https://shaoanlu.wordpress.com/2017/05/29/sgd-all-which-one-is-the-best-optimizer-dogs-vs-cats-toy-experiment/) I decided to choose **Adam optimizer** with default parameters from [keras](https://keras.io/optimizers/). Also accuracy is the **metrics** I decided to choose for model evaluation and **categorical_cross entropy** since we have 10 classes."
   ]
  },
  {
   "cell_type": "code",
   "execution_count": 16,
   "metadata": {},
   "outputs": [
    {
     "name": "stdout",
     "output_type": "stream",
     "text": [
      "14000/14000 [==============================] - 9s 615us/step\n"
     ]
    }
   ],
   "source": [
    "test_result = my_model.evaluate(X_test,y_test, verbose = 1)"
   ]
  },
  {
   "cell_type": "code",
   "execution_count": 17,
   "metadata": {},
   "outputs": [
    {
     "data": {
      "text/plain": [
       "[0.051355093878506786, 0.9874285714285714]"
      ]
     },
     "execution_count": 17,
     "metadata": {},
     "output_type": "execute_result"
    }
   ],
   "source": [
    "test_result"
   ]
  },
  {
   "cell_type": "code",
   "execution_count": 8,
   "metadata": {},
   "outputs": [
    {
     "name": "stdout",
     "output_type": "stream",
     "text": [
      "WARNING:tensorflow:From /anaconda3/lib/python3.7/site-packages/tensorflow/python/framework/op_def_library.py:263: colocate_with (from tensorflow.python.framework.ops) is deprecated and will be removed in a future version.\n",
      "Instructions for updating:\n",
      "Colocations handled automatically by placer.\n",
      "WARNING:tensorflow:From /anaconda3/lib/python3.7/site-packages/keras/backend/tensorflow_backend.py:3445: calling dropout (from tensorflow.python.ops.nn_ops) with keep_prob is deprecated and will be removed in a future version.\n",
      "Instructions for updating:\n",
      "Please use `rate` instead of `keep_prob`. Rate should be set to `rate = 1 - keep_prob`.\n",
      "WARNING:tensorflow:From /anaconda3/lib/python3.7/site-packages/tensorflow/python/ops/math_ops.py:3066: to_int32 (from tensorflow.python.ops.math_ops) is deprecated and will be removed in a future version.\n",
      "Instructions for updating:\n",
      "Use tf.cast instead.\n"
     ]
    }
   ],
   "source": [
    "CNN_model = joblib.load('CNN_model.pkl')\n",
    "history = joblib.load('model_results.pkl')"
   ]
  },
  {
   "cell_type": "code",
   "execution_count": 10,
   "metadata": {},
   "outputs": [],
   "source": [
    "accuracy = history.history['acc']\n",
    "val_accuracy = history.history['val_acc']\n",
    "loss = history.history['loss']\n",
    "val_loss = history.history['val_loss']\n",
    "epochs = range(len(accuracy))"
   ]
  },
  {
   "cell_type": "code",
   "execution_count": 11,
   "metadata": {},
   "outputs": [],
   "source": [
    "d = {'Accuracy':accuracy, 'loss':loss,'validation_accuracy':val_accuracy,'validation_loss':val_loss}\n",
    "result = pd.DataFrame(data = d, index = epochs)"
   ]
  },
  {
   "cell_type": "code",
   "execution_count": 12,
   "metadata": {},
   "outputs": [
    {
     "data": {
      "text/html": [
       "<div>\n",
       "<style scoped>\n",
       "    .dataframe tbody tr th:only-of-type {\n",
       "        vertical-align: middle;\n",
       "    }\n",
       "\n",
       "    .dataframe tbody tr th {\n",
       "        vertical-align: top;\n",
       "    }\n",
       "\n",
       "    .dataframe thead th {\n",
       "        text-align: right;\n",
       "    }\n",
       "</style>\n",
       "<table border=\"1\" class=\"dataframe\">\n",
       "  <thead>\n",
       "    <tr style=\"text-align: right;\">\n",
       "      <th></th>\n",
       "      <th>Accuracy</th>\n",
       "      <th>loss</th>\n",
       "      <th>validation_accuracy</th>\n",
       "      <th>validation_loss</th>\n",
       "    </tr>\n",
       "  </thead>\n",
       "  <tbody>\n",
       "    <tr>\n",
       "      <th>0</th>\n",
       "      <td>0.900000</td>\n",
       "      <td>0.319812</td>\n",
       "      <td>0.968095</td>\n",
       "      <td>0.100874</td>\n",
       "    </tr>\n",
       "    <tr>\n",
       "      <th>1</th>\n",
       "      <td>0.968254</td>\n",
       "      <td>0.102535</td>\n",
       "      <td>0.976667</td>\n",
       "      <td>0.079539</td>\n",
       "    </tr>\n",
       "    <tr>\n",
       "      <th>2</th>\n",
       "      <td>0.976984</td>\n",
       "      <td>0.071425</td>\n",
       "      <td>0.977619</td>\n",
       "      <td>0.063873</td>\n",
       "    </tr>\n",
       "    <tr>\n",
       "      <th>3</th>\n",
       "      <td>0.985291</td>\n",
       "      <td>0.053194</td>\n",
       "      <td>0.979048</td>\n",
       "      <td>0.068185</td>\n",
       "    </tr>\n",
       "    <tr>\n",
       "      <th>4</th>\n",
       "      <td>0.985714</td>\n",
       "      <td>0.047622</td>\n",
       "      <td>0.978571</td>\n",
       "      <td>0.061969</td>\n",
       "    </tr>\n",
       "    <tr>\n",
       "      <th>5</th>\n",
       "      <td>0.987566</td>\n",
       "      <td>0.038250</td>\n",
       "      <td>0.980476</td>\n",
       "      <td>0.072162</td>\n",
       "    </tr>\n",
       "    <tr>\n",
       "      <th>6</th>\n",
       "      <td>0.989312</td>\n",
       "      <td>0.032707</td>\n",
       "      <td>0.985238</td>\n",
       "      <td>0.053688</td>\n",
       "    </tr>\n",
       "    <tr>\n",
       "      <th>7</th>\n",
       "      <td>0.990106</td>\n",
       "      <td>0.029980</td>\n",
       "      <td>0.980952</td>\n",
       "      <td>0.064691</td>\n",
       "    </tr>\n",
       "    <tr>\n",
       "      <th>8</th>\n",
       "      <td>0.991481</td>\n",
       "      <td>0.025850</td>\n",
       "      <td>0.980952</td>\n",
       "      <td>0.068874</td>\n",
       "    </tr>\n",
       "    <tr>\n",
       "      <th>9</th>\n",
       "      <td>0.992222</td>\n",
       "      <td>0.024579</td>\n",
       "      <td>0.983810</td>\n",
       "      <td>0.060090</td>\n",
       "    </tr>\n",
       "    <tr>\n",
       "      <th>10</th>\n",
       "      <td>0.993598</td>\n",
       "      <td>0.019921</td>\n",
       "      <td>0.982381</td>\n",
       "      <td>0.071022</td>\n",
       "    </tr>\n",
       "    <tr>\n",
       "      <th>11</th>\n",
       "      <td>0.991640</td>\n",
       "      <td>0.022648</td>\n",
       "      <td>0.986190</td>\n",
       "      <td>0.051090</td>\n",
       "    </tr>\n",
       "    <tr>\n",
       "      <th>12</th>\n",
       "      <td>0.994444</td>\n",
       "      <td>0.016831</td>\n",
       "      <td>0.984762</td>\n",
       "      <td>0.061068</td>\n",
       "    </tr>\n",
       "    <tr>\n",
       "      <th>13</th>\n",
       "      <td>0.994815</td>\n",
       "      <td>0.017786</td>\n",
       "      <td>0.983810</td>\n",
       "      <td>0.061780</td>\n",
       "    </tr>\n",
       "    <tr>\n",
       "      <th>14</th>\n",
       "      <td>0.994762</td>\n",
       "      <td>0.016560</td>\n",
       "      <td>0.983810</td>\n",
       "      <td>0.060017</td>\n",
       "    </tr>\n",
       "    <tr>\n",
       "      <th>15</th>\n",
       "      <td>0.994709</td>\n",
       "      <td>0.016106</td>\n",
       "      <td>0.981429</td>\n",
       "      <td>0.064394</td>\n",
       "    </tr>\n",
       "    <tr>\n",
       "      <th>16</th>\n",
       "      <td>0.996402</td>\n",
       "      <td>0.011984</td>\n",
       "      <td>0.982857</td>\n",
       "      <td>0.065991</td>\n",
       "    </tr>\n",
       "    <tr>\n",
       "      <th>17</th>\n",
       "      <td>0.995450</td>\n",
       "      <td>0.014685</td>\n",
       "      <td>0.982857</td>\n",
       "      <td>0.070375</td>\n",
       "    </tr>\n",
       "    <tr>\n",
       "      <th>18</th>\n",
       "      <td>0.995238</td>\n",
       "      <td>0.014134</td>\n",
       "      <td>0.983810</td>\n",
       "      <td>0.066620</td>\n",
       "    </tr>\n",
       "    <tr>\n",
       "      <th>19</th>\n",
       "      <td>0.995608</td>\n",
       "      <td>0.014749</td>\n",
       "      <td>0.980476</td>\n",
       "      <td>0.080484</td>\n",
       "    </tr>\n",
       "  </tbody>\n",
       "</table>\n",
       "</div>"
      ],
      "text/plain": [
       "    Accuracy      loss  validation_accuracy  validation_loss\n",
       "0   0.900000  0.319812             0.968095         0.100874\n",
       "1   0.968254  0.102535             0.976667         0.079539\n",
       "2   0.976984  0.071425             0.977619         0.063873\n",
       "3   0.985291  0.053194             0.979048         0.068185\n",
       "4   0.985714  0.047622             0.978571         0.061969\n",
       "5   0.987566  0.038250             0.980476         0.072162\n",
       "6   0.989312  0.032707             0.985238         0.053688\n",
       "7   0.990106  0.029980             0.980952         0.064691\n",
       "8   0.991481  0.025850             0.980952         0.068874\n",
       "9   0.992222  0.024579             0.983810         0.060090\n",
       "10  0.993598  0.019921             0.982381         0.071022\n",
       "11  0.991640  0.022648             0.986190         0.051090\n",
       "12  0.994444  0.016831             0.984762         0.061068\n",
       "13  0.994815  0.017786             0.983810         0.061780\n",
       "14  0.994762  0.016560             0.983810         0.060017\n",
       "15  0.994709  0.016106             0.981429         0.064394\n",
       "16  0.996402  0.011984             0.982857         0.065991\n",
       "17  0.995450  0.014685             0.982857         0.070375\n",
       "18  0.995238  0.014134             0.983810         0.066620\n",
       "19  0.995608  0.014749             0.980476         0.080484"
      ]
     },
     "execution_count": 12,
     "metadata": {},
     "output_type": "execute_result"
    }
   ],
   "source": [
    "result"
   ]
  },
  {
   "cell_type": "code",
   "execution_count": 21,
   "metadata": {},
   "outputs": [
    {
     "data": {
      "image/png": "[encoded data removed]",
      "text/plain": [
       "<Figure size 1008x504 with 1 Axes>"
      ]
     },
     "metadata": {
      "needs_background": "light"
     },
     "output_type": "display_data"
    }
   ],
   "source": [
    "plt.figure(figsize = (14,7))\n",
    "plt.plot(result['Accuracy'], label = 'Train')\n",
    "plt.plot(result['validation_accuracy'], label = 'Validation')\n",
    "plt.xlabel('Epochs')\n",
    "plt.ylabel('Accuracy')\n",
    "plt.legend()\n",
    "plt.xticks(epochs);"
   ]
  },
  {
   "cell_type": "code",
   "execution_count": 29,
   "metadata": {},
   "outputs": [
    {
     "data": {
      "image/png": "[encoded data removed]",
      "text/plain": [
       "<Figure size 1008x504 with 1 Axes>"
      ]
     },
     "metadata": {
      "needs_background": "light"
     },
     "output_type": "display_data"
    }
   ],
   "source": [
    "plt.figure(figsize = (14,7))\n",
    "plt.plot(result['loss'], label = 'Train')\n",
    "plt.plot(result['validation_loss'], label = 'Validation')\n",
    "plt.xlabel('Epochs')\n",
    "plt.ylabel('Loss')\n",
    "plt.legend()\n",
    "plt.xticks(epochs);"
   ]
  },
  {
   "cell_type": "code",
   "execution_count": 9,
   "metadata": {},
   "outputs": [],
   "source": [
    "y_predict = CNN_model.predict(X_test)"
   ]
  },
  {
   "cell_type": "code",
   "execution_count": 10,
   "metadata": {},
   "outputs": [],
   "source": [
    "'''\n",
    "Converting the predictions to the classes and test set back to classes \n",
    "'''\n",
    "y_classes = np.argmax(y_predict,axis = 1)\n",
    "y_test = np.argmax(y_test,axis = 1)"
   ]
  },
  {
   "cell_type": "code",
   "execution_count": 11,
   "metadata": {
    "scrolled": false
   },
   "outputs": [
    {
     "data": {
      "text/html": [
       "<div>\n",
       "<style scoped>\n",
       "    .dataframe tbody tr th:only-of-type {\n",
       "        vertical-align: middle;\n",
       "    }\n",
       "\n",
       "    .dataframe tbody tr th {\n",
       "        vertical-align: top;\n",
       "    }\n",
       "\n",
       "    .dataframe thead th {\n",
       "        text-align: right;\n",
       "    }\n",
       "</style>\n",
       "<table border=\"1\" class=\"dataframe\">\n",
       "  <thead>\n",
       "    <tr style=\"text-align: right;\">\n",
       "      <th>Predicted</th>\n",
       "      <th>0</th>\n",
       "      <th>1</th>\n",
       "      <th>2</th>\n",
       "      <th>3</th>\n",
       "      <th>4</th>\n",
       "      <th>5</th>\n",
       "      <th>6</th>\n",
       "      <th>7</th>\n",
       "      <th>8</th>\n",
       "      <th>9</th>\n",
       "      <th>All</th>\n",
       "    </tr>\n",
       "    <tr>\n",
       "      <th>Actual</th>\n",
       "      <th></th>\n",
       "      <th></th>\n",
       "      <th></th>\n",
       "      <th></th>\n",
       "      <th></th>\n",
       "      <th></th>\n",
       "      <th></th>\n",
       "      <th></th>\n",
       "      <th></th>\n",
       "      <th></th>\n",
       "      <th></th>\n",
       "    </tr>\n",
       "  </thead>\n",
       "  <tbody>\n",
       "    <tr>\n",
       "      <th>0</th>\n",
       "      <td>1378</td>\n",
       "      <td>2</td>\n",
       "      <td>1</td>\n",
       "      <td>0</td>\n",
       "      <td>0</td>\n",
       "      <td>0</td>\n",
       "      <td>0</td>\n",
       "      <td>0</td>\n",
       "      <td>1</td>\n",
       "      <td>0</td>\n",
       "      <td>1382</td>\n",
       "    </tr>\n",
       "    <tr>\n",
       "      <th>1</th>\n",
       "      <td>0</td>\n",
       "      <td>1539</td>\n",
       "      <td>0</td>\n",
       "      <td>0</td>\n",
       "      <td>0</td>\n",
       "      <td>0</td>\n",
       "      <td>0</td>\n",
       "      <td>3</td>\n",
       "      <td>2</td>\n",
       "      <td>1</td>\n",
       "      <td>1545</td>\n",
       "    </tr>\n",
       "    <tr>\n",
       "      <th>2</th>\n",
       "      <td>0</td>\n",
       "      <td>0</td>\n",
       "      <td>1381</td>\n",
       "      <td>0</td>\n",
       "      <td>1</td>\n",
       "      <td>0</td>\n",
       "      <td>0</td>\n",
       "      <td>1</td>\n",
       "      <td>2</td>\n",
       "      <td>3</td>\n",
       "      <td>1388</td>\n",
       "    </tr>\n",
       "    <tr>\n",
       "      <th>3</th>\n",
       "      <td>0</td>\n",
       "      <td>1</td>\n",
       "      <td>1</td>\n",
       "      <td>1428</td>\n",
       "      <td>0</td>\n",
       "      <td>3</td>\n",
       "      <td>0</td>\n",
       "      <td>2</td>\n",
       "      <td>3</td>\n",
       "      <td>1</td>\n",
       "      <td>1439</td>\n",
       "    </tr>\n",
       "    <tr>\n",
       "      <th>4</th>\n",
       "      <td>0</td>\n",
       "      <td>0</td>\n",
       "      <td>0</td>\n",
       "      <td>0</td>\n",
       "      <td>1368</td>\n",
       "      <td>0</td>\n",
       "      <td>3</td>\n",
       "      <td>0</td>\n",
       "      <td>0</td>\n",
       "      <td>1</td>\n",
       "      <td>1372</td>\n",
       "    </tr>\n",
       "    <tr>\n",
       "      <th>5</th>\n",
       "      <td>0</td>\n",
       "      <td>0</td>\n",
       "      <td>0</td>\n",
       "      <td>0</td>\n",
       "      <td>0</td>\n",
       "      <td>1285</td>\n",
       "      <td>0</td>\n",
       "      <td>0</td>\n",
       "      <td>1</td>\n",
       "      <td>0</td>\n",
       "      <td>1286</td>\n",
       "    </tr>\n",
       "    <tr>\n",
       "      <th>6</th>\n",
       "      <td>3</td>\n",
       "      <td>0</td>\n",
       "      <td>0</td>\n",
       "      <td>0</td>\n",
       "      <td>2</td>\n",
       "      <td>3</td>\n",
       "      <td>1369</td>\n",
       "      <td>0</td>\n",
       "      <td>0</td>\n",
       "      <td>0</td>\n",
       "      <td>1377</td>\n",
       "    </tr>\n",
       "    <tr>\n",
       "      <th>7</th>\n",
       "      <td>1</td>\n",
       "      <td>1</td>\n",
       "      <td>8</td>\n",
       "      <td>0</td>\n",
       "      <td>1</td>\n",
       "      <td>0</td>\n",
       "      <td>0</td>\n",
       "      <td>1464</td>\n",
       "      <td>3</td>\n",
       "      <td>3</td>\n",
       "      <td>1481</td>\n",
       "    </tr>\n",
       "    <tr>\n",
       "      <th>8</th>\n",
       "      <td>1</td>\n",
       "      <td>1</td>\n",
       "      <td>0</td>\n",
       "      <td>2</td>\n",
       "      <td>1</td>\n",
       "      <td>2</td>\n",
       "      <td>1</td>\n",
       "      <td>0</td>\n",
       "      <td>1346</td>\n",
       "      <td>4</td>\n",
       "      <td>1358</td>\n",
       "    </tr>\n",
       "    <tr>\n",
       "      <th>9</th>\n",
       "      <td>2</td>\n",
       "      <td>1</td>\n",
       "      <td>0</td>\n",
       "      <td>0</td>\n",
       "      <td>6</td>\n",
       "      <td>3</td>\n",
       "      <td>0</td>\n",
       "      <td>2</td>\n",
       "      <td>0</td>\n",
       "      <td>1358</td>\n",
       "      <td>1372</td>\n",
       "    </tr>\n",
       "    <tr>\n",
       "      <th>All</th>\n",
       "      <td>1385</td>\n",
       "      <td>1545</td>\n",
       "      <td>1391</td>\n",
       "      <td>1430</td>\n",
       "      <td>1379</td>\n",
       "      <td>1296</td>\n",
       "      <td>1373</td>\n",
       "      <td>1472</td>\n",
       "      <td>1358</td>\n",
       "      <td>1371</td>\n",
       "      <td>14000</td>\n",
       "    </tr>\n",
       "  </tbody>\n",
       "</table>\n",
       "</div>"
      ],
      "text/plain": [
       "Predicted     0     1     2     3     4     5     6     7     8     9    All\n",
       "Actual                                                                      \n",
       "0          1378     2     1     0     0     0     0     0     1     0   1382\n",
       "1             0  1539     0     0     0     0     0     3     2     1   1545\n",
       "2             0     0  1381     0     1     0     0     1     2     3   1388\n",
       "3             0     1     1  1428     0     3     0     2     3     1   1439\n",
       "4             0     0     0     0  1368     0     3     0     0     1   1372\n",
       "5             0     0     0     0     0  1285     0     0     1     0   1286\n",
       "6             3     0     0     0     2     3  1369     0     0     0   1377\n",
       "7             1     1     8     0     1     0     0  1464     3     3   1481\n",
       "8             1     1     0     2     1     2     1     0  1346     4   1358\n",
       "9             2     1     0     0     6     3     0     2     0  1358   1372\n",
       "All        1385  1545  1391  1430  1379  1296  1373  1472  1358  1371  14000"
      ]
     },
     "execution_count": 11,
     "metadata": {},
     "output_type": "execute_result"
    }
   ],
   "source": [
    "dataframe =pd.crosstab(y_test, y_classes, rownames=['Actual'], colnames=['Predicted'], margins=True)\n",
    "dataframe"
   ]
  },
  {
   "cell_type": "code",
   "execution_count": 12,
   "metadata": {},
   "outputs": [
    {
     "name": "stdout",
     "output_type": "stream",
     "text": [
      "\n",
      "*Classification Report:\n",
      "               precision    recall  f1-score   support\n",
      "\n",
      "           0       0.99      1.00      1.00      1382\n",
      "           1       1.00      1.00      1.00      1545\n",
      "           2       0.99      0.99      0.99      1388\n",
      "           3       1.00      0.99      1.00      1439\n",
      "           4       0.99      1.00      0.99      1372\n",
      "           5       0.99      1.00      1.00      1286\n",
      "           6       1.00      0.99      1.00      1377\n",
      "           7       0.99      0.99      0.99      1481\n",
      "           8       0.99      0.99      0.99      1358\n",
      "           9       0.99      0.99      0.99      1372\n",
      "\n",
      "   micro avg       0.99      0.99      0.99     14000\n",
      "   macro avg       0.99      0.99      0.99     14000\n",
      "weighted avg       0.99      0.99      0.99     14000\n",
      "\n"
     ]
    }
   ],
   "source": [
    "print ('\\n*Classification Report:\\n', classification_report(y_test, y_classes))"
   ]
  },
  {
   "cell_type": "markdown",
   "metadata": {},
   "source": [
    "## Results:\n",
    "The accuracy for test result was 98%. The model performed really well for predicting the images without even tuning hyperparameters much. The accuracy and loss per epoch stayed pretty consistent for train and validation set. As we can see in the classification report, model was very strong at predicting pretty much all the classes. "
   ]
  }
 ],
 "metadata": {
  "kernelspec": {
   "display_name": "Python 3",
   "language": "python",
   "name": "python3"
  },
  "language_info": {
   "codemirror_mode": {
    "name": "ipython",
    "version": 3
   },
   "file_extension": ".py",
   "mimetype": "text/x-python",
   "name": "python",
   "nbconvert_exporter": "python",
   "pygments_lexer": "ipython3",
   "version": "3.7.1"
  }
 },
 "nbformat": 4,
 "nbformat_minor": 2
}
